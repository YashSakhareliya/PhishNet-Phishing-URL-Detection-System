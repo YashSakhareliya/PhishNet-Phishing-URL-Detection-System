{
 "cells": [
  {
   "cell_type": "code",
   "execution_count": 5,
   "id": "f52164dd-c4b6-4d3e-9e05-0663fb3bf93a",
   "metadata": {},
   "outputs": [],
   "source": [
    "import pandas as pd\n",
    "import numpy as np"
   ]
  },
  {
   "cell_type": "code",
   "execution_count": 2,
   "id": "f1bf38e3-6379-4650-8231-4b14450eb631",
   "metadata": {},
   "outputs": [],
   "source": [
    "df = pd.read_csv('Phishing_Clened_EDA_data.csv')"
   ]
  },
  {
   "cell_type": "code",
   "execution_count": 3,
   "id": "fca72c5a-4464-47af-afb5-5f47aad68815",
   "metadata": {},
   "outputs": [
    {
     "data": {
      "text/html": [
       "<div>\n",
       "<style scoped>\n",
       "    .dataframe tbody tr th:only-of-type {\n",
       "        vertical-align: middle;\n",
       "    }\n",
       "\n",
       "    .dataframe tbody tr th {\n",
       "        vertical-align: top;\n",
       "    }\n",
       "\n",
       "    .dataframe thead th {\n",
       "        text-align: right;\n",
       "    }\n",
       "</style>\n",
       "<table border=\"1\" class=\"dataframe\">\n",
       "  <thead>\n",
       "    <tr style=\"text-align: right;\">\n",
       "      <th></th>\n",
       "      <th>Total-character</th>\n",
       "      <th>Uppercase_letter</th>\n",
       "      <th>Lowercase_letter</th>\n",
       "      <th>Total_numbers</th>\n",
       "      <th>Total_symbol</th>\n",
       "      <th>Total_slesh</th>\n",
       "      <th>Total_dots</th>\n",
       "      <th>Total_desh</th>\n",
       "      <th>Label</th>\n",
       "    </tr>\n",
       "  </thead>\n",
       "  <tbody>\n",
       "    <tr>\n",
       "      <th>0</th>\n",
       "      <td>225</td>\n",
       "      <td>2</td>\n",
       "      <td>133</td>\n",
       "      <td>58</td>\n",
       "      <td>32</td>\n",
       "      <td>10</td>\n",
       "      <td>6</td>\n",
       "      <td>4</td>\n",
       "      <td>0</td>\n",
       "    </tr>\n",
       "    <tr>\n",
       "      <th>1</th>\n",
       "      <td>81</td>\n",
       "      <td>0</td>\n",
       "      <td>65</td>\n",
       "      <td>1</td>\n",
       "      <td>15</td>\n",
       "      <td>4</td>\n",
       "      <td>5</td>\n",
       "      <td>2</td>\n",
       "      <td>0</td>\n",
       "    </tr>\n",
       "    <tr>\n",
       "      <th>2</th>\n",
       "      <td>177</td>\n",
       "      <td>0</td>\n",
       "      <td>111</td>\n",
       "      <td>47</td>\n",
       "      <td>19</td>\n",
       "      <td>11</td>\n",
       "      <td>7</td>\n",
       "      <td>1</td>\n",
       "      <td>0</td>\n",
       "    </tr>\n",
       "    <tr>\n",
       "      <th>3</th>\n",
       "      <td>60</td>\n",
       "      <td>0</td>\n",
       "      <td>52</td>\n",
       "      <td>0</td>\n",
       "      <td>8</td>\n",
       "      <td>2</td>\n",
       "      <td>6</td>\n",
       "      <td>0</td>\n",
       "      <td>0</td>\n",
       "    </tr>\n",
       "    <tr>\n",
       "      <th>4</th>\n",
       "      <td>116</td>\n",
       "      <td>12</td>\n",
       "      <td>70</td>\n",
       "      <td>21</td>\n",
       "      <td>13</td>\n",
       "      <td>10</td>\n",
       "      <td>1</td>\n",
       "      <td>1</td>\n",
       "      <td>0</td>\n",
       "    </tr>\n",
       "  </tbody>\n",
       "</table>\n",
       "</div>"
      ],
      "text/plain": [
       "   Total-character  Uppercase_letter  Lowercase_letter  Total_numbers  \\\n",
       "0              225                 2               133             58   \n",
       "1               81                 0                65              1   \n",
       "2              177                 0               111             47   \n",
       "3               60                 0                52              0   \n",
       "4              116                12                70             21   \n",
       "\n",
       "   Total_symbol  Total_slesh  Total_dots  Total_desh  Label  \n",
       "0            32           10           6           4      0  \n",
       "1            15            4           5           2      0  \n",
       "2            19           11           7           1      0  \n",
       "3             8            2           6           0      0  \n",
       "4            13           10           1           1      0  "
      ]
     },
     "execution_count": 3,
     "metadata": {},
     "output_type": "execute_result"
    }
   ],
   "source": [
    "df.head()"
   ]
  },
  {
   "cell_type": "code",
   "execution_count": 4,
   "id": "ef8cec57-c2ce-48e9-94ac-f9d158ba5642",
   "metadata": {},
   "outputs": [
    {
     "data": {
      "text/plain": [
       "(549346, 9)"
      ]
     },
     "execution_count": 4,
     "metadata": {},
     "output_type": "execute_result"
    }
   ],
   "source": [
    "df.shape"
   ]
  },
  {
   "cell_type": "code",
   "execution_count": 5,
   "id": "472c386c-e6ca-46d5-b06d-8cacaf32157c",
   "metadata": {},
   "outputs": [],
   "source": [
    "# convert depedent and indepedent feature\n",
    "X = df.drop(['Label'],axis=1)\n",
    "y = df['Label']"
   ]
  },
  {
   "cell_type": "code",
   "execution_count": 6,
   "id": "c9cb4787-cb12-4e46-92c4-70a969779246",
   "metadata": {},
   "outputs": [
    {
     "data": {
      "text/html": [
       "<div>\n",
       "<style scoped>\n",
       "    .dataframe tbody tr th:only-of-type {\n",
       "        vertical-align: middle;\n",
       "    }\n",
       "\n",
       "    .dataframe tbody tr th {\n",
       "        vertical-align: top;\n",
       "    }\n",
       "\n",
       "    .dataframe thead th {\n",
       "        text-align: right;\n",
       "    }\n",
       "</style>\n",
       "<table border=\"1\" class=\"dataframe\">\n",
       "  <thead>\n",
       "    <tr style=\"text-align: right;\">\n",
       "      <th></th>\n",
       "      <th>Total-character</th>\n",
       "      <th>Uppercase_letter</th>\n",
       "      <th>Lowercase_letter</th>\n",
       "      <th>Total_numbers</th>\n",
       "      <th>Total_symbol</th>\n",
       "      <th>Total_slesh</th>\n",
       "      <th>Total_dots</th>\n",
       "      <th>Total_desh</th>\n",
       "    </tr>\n",
       "  </thead>\n",
       "  <tbody>\n",
       "    <tr>\n",
       "      <th>0</th>\n",
       "      <td>225</td>\n",
       "      <td>2</td>\n",
       "      <td>133</td>\n",
       "      <td>58</td>\n",
       "      <td>32</td>\n",
       "      <td>10</td>\n",
       "      <td>6</td>\n",
       "      <td>4</td>\n",
       "    </tr>\n",
       "    <tr>\n",
       "      <th>1</th>\n",
       "      <td>81</td>\n",
       "      <td>0</td>\n",
       "      <td>65</td>\n",
       "      <td>1</td>\n",
       "      <td>15</td>\n",
       "      <td>4</td>\n",
       "      <td>5</td>\n",
       "      <td>2</td>\n",
       "    </tr>\n",
       "    <tr>\n",
       "      <th>2</th>\n",
       "      <td>177</td>\n",
       "      <td>0</td>\n",
       "      <td>111</td>\n",
       "      <td>47</td>\n",
       "      <td>19</td>\n",
       "      <td>11</td>\n",
       "      <td>7</td>\n",
       "      <td>1</td>\n",
       "    </tr>\n",
       "    <tr>\n",
       "      <th>3</th>\n",
       "      <td>60</td>\n",
       "      <td>0</td>\n",
       "      <td>52</td>\n",
       "      <td>0</td>\n",
       "      <td>8</td>\n",
       "      <td>2</td>\n",
       "      <td>6</td>\n",
       "      <td>0</td>\n",
       "    </tr>\n",
       "    <tr>\n",
       "      <th>4</th>\n",
       "      <td>116</td>\n",
       "      <td>12</td>\n",
       "      <td>70</td>\n",
       "      <td>21</td>\n",
       "      <td>13</td>\n",
       "      <td>10</td>\n",
       "      <td>1</td>\n",
       "      <td>1</td>\n",
       "    </tr>\n",
       "  </tbody>\n",
       "</table>\n",
       "</div>"
      ],
      "text/plain": [
       "   Total-character  Uppercase_letter  Lowercase_letter  Total_numbers  \\\n",
       "0              225                 2               133             58   \n",
       "1               81                 0                65              1   \n",
       "2              177                 0               111             47   \n",
       "3               60                 0                52              0   \n",
       "4              116                12                70             21   \n",
       "\n",
       "   Total_symbol  Total_slesh  Total_dots  Total_desh  \n",
       "0            32           10           6           4  \n",
       "1            15            4           5           2  \n",
       "2            19           11           7           1  \n",
       "3             8            2           6           0  \n",
       "4            13           10           1           1  "
      ]
     },
     "execution_count": 6,
     "metadata": {},
     "output_type": "execute_result"
    }
   ],
   "source": [
    "X.head()"
   ]
  },
  {
   "cell_type": "code",
   "execution_count": 7,
   "id": "1452bb86-9053-444c-bc20-de8acd58377c",
   "metadata": {},
   "outputs": [
    {
     "data": {
      "text/plain": [
       "Label\n",
       "1    392924\n",
       "0    156422\n",
       "Name: count, dtype: int64"
      ]
     },
     "execution_count": 7,
     "metadata": {},
     "output_type": "execute_result"
    }
   ],
   "source": [
    "y.value_counts()"
   ]
  },
  {
   "cell_type": "code",
   "execution_count": 8,
   "id": "d93edb85-950f-4c9d-b7c1-cc634150b561",
   "metadata": {},
   "outputs": [],
   "source": [
    "# convert into X_train and test\n",
    "from sklearn.model_selection import train_test_split"
   ]
  },
  {
   "cell_type": "code",
   "execution_count": 9,
   "id": "da6ab8b0-5022-4bb2-a0fa-1a33ffef1711",
   "metadata": {},
   "outputs": [],
   "source": [
    "X_train,X_test,y_train,y_test = train_test_split(X,y,test_size=0.30,random_state=42)"
   ]
  },
  {
   "cell_type": "code",
   "execution_count": 10,
   "id": "861f39fa-a252-4da7-891d-8dc00814826e",
   "metadata": {},
   "outputs": [
    {
     "data": {
      "text/plain": [
       "((384542, 8), (164804, 8))"
      ]
     },
     "execution_count": 10,
     "metadata": {},
     "output_type": "execute_result"
    }
   ],
   "source": [
    "X_train.shape,X_test.shape"
   ]
  },
  {
   "cell_type": "code",
   "execution_count": 11,
   "id": "3275ff7d-34c1-43cb-b299-5bdb888948b3",
   "metadata": {},
   "outputs": [
    {
     "data": {
      "text/plain": [
       "(Label\n",
       " 1    274870\n",
       " 0    109672\n",
       " Name: count, dtype: int64,\n",
       " Label\n",
       " 1    118054\n",
       " 0     46750\n",
       " Name: count, dtype: int64)"
      ]
     },
     "execution_count": 11,
     "metadata": {},
     "output_type": "execute_result"
    }
   ],
   "source": [
    "y_train.value_counts(),y_test.value_counts()"
   ]
  },
  {
   "cell_type": "code",
   "execution_count": 12,
   "id": "0fb2c8d5-2670-40a7-8425-0e958f3079b3",
   "metadata": {},
   "outputs": [],
   "source": [
    "# scaling tha data\n",
    "from sklearn.preprocessing import StandardScaler\n",
    "scaler = StandardScaler()"
   ]
  },
  {
   "cell_type": "code",
   "execution_count": 13,
   "id": "d3fc0e0a-d489-4bbd-90e4-179301b742a0",
   "metadata": {},
   "outputs": [],
   "source": [
    "X_train_scaled = scaler.fit_transform(X_train)\n",
    "X_test_scaled = scaler.transform(X_test)"
   ]
  },
  {
   "cell_type": "code",
   "execution_count": 14,
   "id": "9df7c098-1d20-4a2d-96c9-6656bd6e5ecd",
   "metadata": {},
   "outputs": [
    {
     "data": {
      "text/plain": [
       "array([[-0.73790045, -0.19418911, -0.87292671, ..., -0.90626831,\n",
       "        -0.70308642, -0.05274225],\n",
       "       [ 0.47901566,  0.08031588,  0.60104817, ...,  0.97094411,\n",
       "        -0.70308642, -0.05274225],\n",
       "       [-0.37733272,  0.17181755, -0.47455512, ..., -0.28053084,\n",
       "        -0.04057017, -0.46415897],\n",
       "       ...,\n",
       "       [-0.94071981, -0.19418911, -1.19162398, ..., -0.90626831,\n",
       "        -0.70308642, -0.46415897],\n",
       "       [-0.3998682 , -0.19418911, -0.35504365, ..., -0.90626831,\n",
       "         1.28446234, -0.46415897],\n",
       "       [-0.49001013, -0.19418911, -0.47455512, ...,  0.34520664,\n",
       "        -0.70308642, -0.46415897]], shape=(384542, 8))"
      ]
     },
     "execution_count": 14,
     "metadata": {},
     "output_type": "execute_result"
    }
   ],
   "source": [
    "X_train_scaled"
   ]
  },
  {
   "cell_type": "code",
   "execution_count": 15,
   "id": "390381bb-b194-4c84-87ac-c02f592d5541",
   "metadata": {},
   "outputs": [],
   "source": [
    "# model training\n",
    "from sklearn.linear_model import LogisticRegression\n",
    "from sklearn.svm import SVC\n",
    "from sklearn.tree import DecisionTreeClassifier\n",
    "from sklearn.neighbors import KNeighborsClassifier\n",
    "from sklearn.ensemble import RandomForestClassifier,AdaBoostClassifier,GradientBoostingClassifier\n",
    "from sklearn.naive_bayes import GaussianNB\n"
   ]
  },
  {
   "cell_type": "code",
   "execution_count": 16,
   "id": "a7674869-a3ab-4425-a1d9-282cba682c0f",
   "metadata": {},
   "outputs": [],
   "source": [
    "models = {\n",
    "    'LogisticRegression':LogisticRegression(),\n",
    "    # 'SVC':SVC(),\n",
    "    'DecisionTreeClassifier':DecisionTreeClassifier(),\n",
    "    # 'KNeighborsClassifier':KNeighborsClassifier(),\n",
    "    'RandomForestClassifier':RandomForestClassifier(),\n",
    "    'AdaBoostClassifier':AdaBoostClassifier(),\n",
    "    'GradientBoostingClassifier':GradientBoostingClassifier(),\n",
    "    'GaussianNB':GaussianNB()\n",
    "}"
   ]
  },
  {
   "cell_type": "code",
   "execution_count": 17,
   "id": "11609d02-ce13-4092-bae2-74473c859487",
   "metadata": {},
   "outputs": [
    {
     "data": {
      "text/plain": [
       "{'LogisticRegression': LogisticRegression(),\n",
       " 'DecisionTreeClassifier': DecisionTreeClassifier(),\n",
       " 'RandomForestClassifier': RandomForestClassifier(),\n",
       " 'AdaBoostClassifier': AdaBoostClassifier(),\n",
       " 'GradientBoostingClassifier': GradientBoostingClassifier(),\n",
       " 'GaussianNB': GaussianNB()}"
      ]
     },
     "execution_count": 17,
     "metadata": {},
     "output_type": "execute_result"
    }
   ],
   "source": [
    "models"
   ]
  },
  {
   "cell_type": "code",
   "execution_count": 18,
   "id": "045953cd-5f0d-4a01-bbf5-25b4711556c0",
   "metadata": {},
   "outputs": [],
   "source": [
    "# calculate score\n",
    "from sklearn.metrics import accuracy_score"
   ]
  },
  {
   "cell_type": "code",
   "execution_count": 19,
   "id": "6e22fc80-a823-45fb-82eb-96ba55a84a0e",
   "metadata": {},
   "outputs": [],
   "source": [
    "def model_eveluate(y_real,y_pred):\n",
    "    acc_score = accuracy_score(y_real,y_pred)\n",
    "    return acc_score"
   ]
  },
  {
   "cell_type": "code",
   "execution_count": 21,
   "id": "985ecfda-4f0c-48d3-b29c-e6086ff7b4f0",
   "metadata": {},
   "outputs": [
    {
     "name": "stdout",
     "output_type": "stream",
     "text": [
      "LogisticRegression\n",
      "Model Performance\n",
      "Train accuracy_score :0.7706\n",
      "Test accuracy_score :0.7715\n",
      "===================================\n",
      "\n",
      "\n",
      "DecisionTreeClassifier\n",
      "Model Performance\n",
      "Train accuracy_score :0.9024\n",
      "Test accuracy_score :0.8581\n",
      "===================================\n",
      "\n",
      "\n",
      "RandomForestClassifier\n",
      "Model Performance\n",
      "Train accuracy_score :0.9024\n",
      "Test accuracy_score :0.8681\n",
      "===================================\n",
      "\n",
      "\n",
      "AdaBoostClassifier\n",
      "Model Performance\n",
      "Train accuracy_score :0.7762\n",
      "Test accuracy_score :0.7772\n",
      "===================================\n",
      "\n",
      "\n",
      "GradientBoostingClassifier\n",
      "Model Performance\n",
      "Train accuracy_score :0.8278\n",
      "Test accuracy_score :0.8292\n",
      "===================================\n",
      "\n",
      "\n",
      "GaussianNB\n",
      "Model Performance\n",
      "Train accuracy_score :0.7660\n",
      "Test accuracy_score :0.7671\n",
      "===================================\n",
      "\n",
      "\n"
     ]
    }
   ],
   "source": [
    "model_list = []\n",
    "acc_score = []\n",
    "for i in range(len(list(models))):\n",
    "\n",
    "    model = list(models.values())[i]\n",
    "    model.fit(X_train_scaled,y_train)\n",
    "    \n",
    "    \n",
    "    \n",
    "    # prediction\n",
    "    y_train_pred = model.predict(X_train_scaled)\n",
    "    y_test_pred = model.predict(X_test_scaled)\n",
    "    \n",
    "    \n",
    "    # calcualte score\n",
    "    train_score = model_eveluate(y_train,y_train_pred)\n",
    "    test_score = model_eveluate(y_test,y_test_pred)\n",
    "   \n",
    "    \n",
    "    # printing score\n",
    "    print(list(models.keys())[i])\n",
    "    model_list.append(list(models.keys())[i])\n",
    "    \n",
    "    \n",
    "    print('Model Performance')\n",
    "    print('Train accuracy_score :{:.4f}'.format(train_score))\n",
    "    print('Test accuracy_score :{:.4f}'.format(test_score))\n",
    "    \n",
    "    \n",
    "    acc_score.append(test_score)\n",
    "    \n",
    "    \n",
    "    print('='*35)\n",
    "    print('\\n')\n",
    "    \n",
    "    \n",
    "    "
   ]
  },
  {
   "cell_type": "code",
   "execution_count": 20,
   "id": "33a6b783-34bc-4ec8-8a2d-fdc6304b7ea3",
   "metadata": {},
   "outputs": [],
   "source": [
    "model = RandomForestClassifier()"
   ]
  },
  {
   "cell_type": "code",
   "execution_count": 21,
   "id": "6d0d600e-125a-4d71-9406-91ed91f2a198",
   "metadata": {},
   "outputs": [
    {
     "data": {
      "text/html": [
       "<style>#sk-container-id-1 {\n",
       "  /* Definition of color scheme common for light and dark mode */\n",
       "  --sklearn-color-text: #000;\n",
       "  --sklearn-color-text-muted: #666;\n",
       "  --sklearn-color-line: gray;\n",
       "  /* Definition of color scheme for unfitted estimators */\n",
       "  --sklearn-color-unfitted-level-0: #fff5e6;\n",
       "  --sklearn-color-unfitted-level-1: #f6e4d2;\n",
       "  --sklearn-color-unfitted-level-2: #ffe0b3;\n",
       "  --sklearn-color-unfitted-level-3: chocolate;\n",
       "  /* Definition of color scheme for fitted estimators */\n",
       "  --sklearn-color-fitted-level-0: #f0f8ff;\n",
       "  --sklearn-color-fitted-level-1: #d4ebff;\n",
       "  --sklearn-color-fitted-level-2: #b3dbfd;\n",
       "  --sklearn-color-fitted-level-3: cornflowerblue;\n",
       "\n",
       "  /* Specific color for light theme */\n",
       "  --sklearn-color-text-on-default-background: var(--sg-text-color, var(--theme-code-foreground, var(--jp-content-font-color1, black)));\n",
       "  --sklearn-color-background: var(--sg-background-color, var(--theme-background, var(--jp-layout-color0, white)));\n",
       "  --sklearn-color-border-box: var(--sg-text-color, var(--theme-code-foreground, var(--jp-content-font-color1, black)));\n",
       "  --sklearn-color-icon: #696969;\n",
       "\n",
       "  @media (prefers-color-scheme: dark) {\n",
       "    /* Redefinition of color scheme for dark theme */\n",
       "    --sklearn-color-text-on-default-background: var(--sg-text-color, var(--theme-code-foreground, var(--jp-content-font-color1, white)));\n",
       "    --sklearn-color-background: var(--sg-background-color, var(--theme-background, var(--jp-layout-color0, #111)));\n",
       "    --sklearn-color-border-box: var(--sg-text-color, var(--theme-code-foreground, var(--jp-content-font-color1, white)));\n",
       "    --sklearn-color-icon: #878787;\n",
       "  }\n",
       "}\n",
       "\n",
       "#sk-container-id-1 {\n",
       "  color: var(--sklearn-color-text);\n",
       "}\n",
       "\n",
       "#sk-container-id-1 pre {\n",
       "  padding: 0;\n",
       "}\n",
       "\n",
       "#sk-container-id-1 input.sk-hidden--visually {\n",
       "  border: 0;\n",
       "  clip: rect(1px 1px 1px 1px);\n",
       "  clip: rect(1px, 1px, 1px, 1px);\n",
       "  height: 1px;\n",
       "  margin: -1px;\n",
       "  overflow: hidden;\n",
       "  padding: 0;\n",
       "  position: absolute;\n",
       "  width: 1px;\n",
       "}\n",
       "\n",
       "#sk-container-id-1 div.sk-dashed-wrapped {\n",
       "  border: 1px dashed var(--sklearn-color-line);\n",
       "  margin: 0 0.4em 0.5em 0.4em;\n",
       "  box-sizing: border-box;\n",
       "  padding-bottom: 0.4em;\n",
       "  background-color: var(--sklearn-color-background);\n",
       "}\n",
       "\n",
       "#sk-container-id-1 div.sk-container {\n",
       "  /* jupyter's `normalize.less` sets `[hidden] { display: none; }`\n",
       "     but bootstrap.min.css set `[hidden] { display: none !important; }`\n",
       "     so we also need the `!important` here to be able to override the\n",
       "     default hidden behavior on the sphinx rendered scikit-learn.org.\n",
       "     See: https://github.com/scikit-learn/scikit-learn/issues/21755 */\n",
       "  display: inline-block !important;\n",
       "  position: relative;\n",
       "}\n",
       "\n",
       "#sk-container-id-1 div.sk-text-repr-fallback {\n",
       "  display: none;\n",
       "}\n",
       "\n",
       "div.sk-parallel-item,\n",
       "div.sk-serial,\n",
       "div.sk-item {\n",
       "  /* draw centered vertical line to link estimators */\n",
       "  background-image: linear-gradient(var(--sklearn-color-text-on-default-background), var(--sklearn-color-text-on-default-background));\n",
       "  background-size: 2px 100%;\n",
       "  background-repeat: no-repeat;\n",
       "  background-position: center center;\n",
       "}\n",
       "\n",
       "/* Parallel-specific style estimator block */\n",
       "\n",
       "#sk-container-id-1 div.sk-parallel-item::after {\n",
       "  content: \"\";\n",
       "  width: 100%;\n",
       "  border-bottom: 2px solid var(--sklearn-color-text-on-default-background);\n",
       "  flex-grow: 1;\n",
       "}\n",
       "\n",
       "#sk-container-id-1 div.sk-parallel {\n",
       "  display: flex;\n",
       "  align-items: stretch;\n",
       "  justify-content: center;\n",
       "  background-color: var(--sklearn-color-background);\n",
       "  position: relative;\n",
       "}\n",
       "\n",
       "#sk-container-id-1 div.sk-parallel-item {\n",
       "  display: flex;\n",
       "  flex-direction: column;\n",
       "}\n",
       "\n",
       "#sk-container-id-1 div.sk-parallel-item:first-child::after {\n",
       "  align-self: flex-end;\n",
       "  width: 50%;\n",
       "}\n",
       "\n",
       "#sk-container-id-1 div.sk-parallel-item:last-child::after {\n",
       "  align-self: flex-start;\n",
       "  width: 50%;\n",
       "}\n",
       "\n",
       "#sk-container-id-1 div.sk-parallel-item:only-child::after {\n",
       "  width: 0;\n",
       "}\n",
       "\n",
       "/* Serial-specific style estimator block */\n",
       "\n",
       "#sk-container-id-1 div.sk-serial {\n",
       "  display: flex;\n",
       "  flex-direction: column;\n",
       "  align-items: center;\n",
       "  background-color: var(--sklearn-color-background);\n",
       "  padding-right: 1em;\n",
       "  padding-left: 1em;\n",
       "}\n",
       "\n",
       "\n",
       "/* Toggleable style: style used for estimator/Pipeline/ColumnTransformer box that is\n",
       "clickable and can be expanded/collapsed.\n",
       "- Pipeline and ColumnTransformer use this feature and define the default style\n",
       "- Estimators will overwrite some part of the style using the `sk-estimator` class\n",
       "*/\n",
       "\n",
       "/* Pipeline and ColumnTransformer style (default) */\n",
       "\n",
       "#sk-container-id-1 div.sk-toggleable {\n",
       "  /* Default theme specific background. It is overwritten whether we have a\n",
       "  specific estimator or a Pipeline/ColumnTransformer */\n",
       "  background-color: var(--sklearn-color-background);\n",
       "}\n",
       "\n",
       "/* Toggleable label */\n",
       "#sk-container-id-1 label.sk-toggleable__label {\n",
       "  cursor: pointer;\n",
       "  display: flex;\n",
       "  width: 100%;\n",
       "  margin-bottom: 0;\n",
       "  padding: 0.5em;\n",
       "  box-sizing: border-box;\n",
       "  text-align: center;\n",
       "  align-items: start;\n",
       "  justify-content: space-between;\n",
       "  gap: 0.5em;\n",
       "}\n",
       "\n",
       "#sk-container-id-1 label.sk-toggleable__label .caption {\n",
       "  font-size: 0.6rem;\n",
       "  font-weight: lighter;\n",
       "  color: var(--sklearn-color-text-muted);\n",
       "}\n",
       "\n",
       "#sk-container-id-1 label.sk-toggleable__label-arrow:before {\n",
       "  /* Arrow on the left of the label */\n",
       "  content: \"▸\";\n",
       "  float: left;\n",
       "  margin-right: 0.25em;\n",
       "  color: var(--sklearn-color-icon);\n",
       "}\n",
       "\n",
       "#sk-container-id-1 label.sk-toggleable__label-arrow:hover:before {\n",
       "  color: var(--sklearn-color-text);\n",
       "}\n",
       "\n",
       "/* Toggleable content - dropdown */\n",
       "\n",
       "#sk-container-id-1 div.sk-toggleable__content {\n",
       "  max-height: 0;\n",
       "  max-width: 0;\n",
       "  overflow: hidden;\n",
       "  text-align: left;\n",
       "  /* unfitted */\n",
       "  background-color: var(--sklearn-color-unfitted-level-0);\n",
       "}\n",
       "\n",
       "#sk-container-id-1 div.sk-toggleable__content.fitted {\n",
       "  /* fitted */\n",
       "  background-color: var(--sklearn-color-fitted-level-0);\n",
       "}\n",
       "\n",
       "#sk-container-id-1 div.sk-toggleable__content pre {\n",
       "  margin: 0.2em;\n",
       "  border-radius: 0.25em;\n",
       "  color: var(--sklearn-color-text);\n",
       "  /* unfitted */\n",
       "  background-color: var(--sklearn-color-unfitted-level-0);\n",
       "}\n",
       "\n",
       "#sk-container-id-1 div.sk-toggleable__content.fitted pre {\n",
       "  /* unfitted */\n",
       "  background-color: var(--sklearn-color-fitted-level-0);\n",
       "}\n",
       "\n",
       "#sk-container-id-1 input.sk-toggleable__control:checked~div.sk-toggleable__content {\n",
       "  /* Expand drop-down */\n",
       "  max-height: 200px;\n",
       "  max-width: 100%;\n",
       "  overflow: auto;\n",
       "}\n",
       "\n",
       "#sk-container-id-1 input.sk-toggleable__control:checked~label.sk-toggleable__label-arrow:before {\n",
       "  content: \"▾\";\n",
       "}\n",
       "\n",
       "/* Pipeline/ColumnTransformer-specific style */\n",
       "\n",
       "#sk-container-id-1 div.sk-label input.sk-toggleable__control:checked~label.sk-toggleable__label {\n",
       "  color: var(--sklearn-color-text);\n",
       "  background-color: var(--sklearn-color-unfitted-level-2);\n",
       "}\n",
       "\n",
       "#sk-container-id-1 div.sk-label.fitted input.sk-toggleable__control:checked~label.sk-toggleable__label {\n",
       "  background-color: var(--sklearn-color-fitted-level-2);\n",
       "}\n",
       "\n",
       "/* Estimator-specific style */\n",
       "\n",
       "/* Colorize estimator box */\n",
       "#sk-container-id-1 div.sk-estimator input.sk-toggleable__control:checked~label.sk-toggleable__label {\n",
       "  /* unfitted */\n",
       "  background-color: var(--sklearn-color-unfitted-level-2);\n",
       "}\n",
       "\n",
       "#sk-container-id-1 div.sk-estimator.fitted input.sk-toggleable__control:checked~label.sk-toggleable__label {\n",
       "  /* fitted */\n",
       "  background-color: var(--sklearn-color-fitted-level-2);\n",
       "}\n",
       "\n",
       "#sk-container-id-1 div.sk-label label.sk-toggleable__label,\n",
       "#sk-container-id-1 div.sk-label label {\n",
       "  /* The background is the default theme color */\n",
       "  color: var(--sklearn-color-text-on-default-background);\n",
       "}\n",
       "\n",
       "/* On hover, darken the color of the background */\n",
       "#sk-container-id-1 div.sk-label:hover label.sk-toggleable__label {\n",
       "  color: var(--sklearn-color-text);\n",
       "  background-color: var(--sklearn-color-unfitted-level-2);\n",
       "}\n",
       "\n",
       "/* Label box, darken color on hover, fitted */\n",
       "#sk-container-id-1 div.sk-label.fitted:hover label.sk-toggleable__label.fitted {\n",
       "  color: var(--sklearn-color-text);\n",
       "  background-color: var(--sklearn-color-fitted-level-2);\n",
       "}\n",
       "\n",
       "/* Estimator label */\n",
       "\n",
       "#sk-container-id-1 div.sk-label label {\n",
       "  font-family: monospace;\n",
       "  font-weight: bold;\n",
       "  display: inline-block;\n",
       "  line-height: 1.2em;\n",
       "}\n",
       "\n",
       "#sk-container-id-1 div.sk-label-container {\n",
       "  text-align: center;\n",
       "}\n",
       "\n",
       "/* Estimator-specific */\n",
       "#sk-container-id-1 div.sk-estimator {\n",
       "  font-family: monospace;\n",
       "  border: 1px dotted var(--sklearn-color-border-box);\n",
       "  border-radius: 0.25em;\n",
       "  box-sizing: border-box;\n",
       "  margin-bottom: 0.5em;\n",
       "  /* unfitted */\n",
       "  background-color: var(--sklearn-color-unfitted-level-0);\n",
       "}\n",
       "\n",
       "#sk-container-id-1 div.sk-estimator.fitted {\n",
       "  /* fitted */\n",
       "  background-color: var(--sklearn-color-fitted-level-0);\n",
       "}\n",
       "\n",
       "/* on hover */\n",
       "#sk-container-id-1 div.sk-estimator:hover {\n",
       "  /* unfitted */\n",
       "  background-color: var(--sklearn-color-unfitted-level-2);\n",
       "}\n",
       "\n",
       "#sk-container-id-1 div.sk-estimator.fitted:hover {\n",
       "  /* fitted */\n",
       "  background-color: var(--sklearn-color-fitted-level-2);\n",
       "}\n",
       "\n",
       "/* Specification for estimator info (e.g. \"i\" and \"?\") */\n",
       "\n",
       "/* Common style for \"i\" and \"?\" */\n",
       "\n",
       ".sk-estimator-doc-link,\n",
       "a:link.sk-estimator-doc-link,\n",
       "a:visited.sk-estimator-doc-link {\n",
       "  float: right;\n",
       "  font-size: smaller;\n",
       "  line-height: 1em;\n",
       "  font-family: monospace;\n",
       "  background-color: var(--sklearn-color-background);\n",
       "  border-radius: 1em;\n",
       "  height: 1em;\n",
       "  width: 1em;\n",
       "  text-decoration: none !important;\n",
       "  margin-left: 0.5em;\n",
       "  text-align: center;\n",
       "  /* unfitted */\n",
       "  border: var(--sklearn-color-unfitted-level-1) 1pt solid;\n",
       "  color: var(--sklearn-color-unfitted-level-1);\n",
       "}\n",
       "\n",
       ".sk-estimator-doc-link.fitted,\n",
       "a:link.sk-estimator-doc-link.fitted,\n",
       "a:visited.sk-estimator-doc-link.fitted {\n",
       "  /* fitted */\n",
       "  border: var(--sklearn-color-fitted-level-1) 1pt solid;\n",
       "  color: var(--sklearn-color-fitted-level-1);\n",
       "}\n",
       "\n",
       "/* On hover */\n",
       "div.sk-estimator:hover .sk-estimator-doc-link:hover,\n",
       ".sk-estimator-doc-link:hover,\n",
       "div.sk-label-container:hover .sk-estimator-doc-link:hover,\n",
       ".sk-estimator-doc-link:hover {\n",
       "  /* unfitted */\n",
       "  background-color: var(--sklearn-color-unfitted-level-3);\n",
       "  color: var(--sklearn-color-background);\n",
       "  text-decoration: none;\n",
       "}\n",
       "\n",
       "div.sk-estimator.fitted:hover .sk-estimator-doc-link.fitted:hover,\n",
       ".sk-estimator-doc-link.fitted:hover,\n",
       "div.sk-label-container:hover .sk-estimator-doc-link.fitted:hover,\n",
       ".sk-estimator-doc-link.fitted:hover {\n",
       "  /* fitted */\n",
       "  background-color: var(--sklearn-color-fitted-level-3);\n",
       "  color: var(--sklearn-color-background);\n",
       "  text-decoration: none;\n",
       "}\n",
       "\n",
       "/* Span, style for the box shown on hovering the info icon */\n",
       ".sk-estimator-doc-link span {\n",
       "  display: none;\n",
       "  z-index: 9999;\n",
       "  position: relative;\n",
       "  font-weight: normal;\n",
       "  right: .2ex;\n",
       "  padding: .5ex;\n",
       "  margin: .5ex;\n",
       "  width: min-content;\n",
       "  min-width: 20ex;\n",
       "  max-width: 50ex;\n",
       "  color: var(--sklearn-color-text);\n",
       "  box-shadow: 2pt 2pt 4pt #999;\n",
       "  /* unfitted */\n",
       "  background: var(--sklearn-color-unfitted-level-0);\n",
       "  border: .5pt solid var(--sklearn-color-unfitted-level-3);\n",
       "}\n",
       "\n",
       ".sk-estimator-doc-link.fitted span {\n",
       "  /* fitted */\n",
       "  background: var(--sklearn-color-fitted-level-0);\n",
       "  border: var(--sklearn-color-fitted-level-3);\n",
       "}\n",
       "\n",
       ".sk-estimator-doc-link:hover span {\n",
       "  display: block;\n",
       "}\n",
       "\n",
       "/* \"?\"-specific style due to the `<a>` HTML tag */\n",
       "\n",
       "#sk-container-id-1 a.estimator_doc_link {\n",
       "  float: right;\n",
       "  font-size: 1rem;\n",
       "  line-height: 1em;\n",
       "  font-family: monospace;\n",
       "  background-color: var(--sklearn-color-background);\n",
       "  border-radius: 1rem;\n",
       "  height: 1rem;\n",
       "  width: 1rem;\n",
       "  text-decoration: none;\n",
       "  /* unfitted */\n",
       "  color: var(--sklearn-color-unfitted-level-1);\n",
       "  border: var(--sklearn-color-unfitted-level-1) 1pt solid;\n",
       "}\n",
       "\n",
       "#sk-container-id-1 a.estimator_doc_link.fitted {\n",
       "  /* fitted */\n",
       "  border: var(--sklearn-color-fitted-level-1) 1pt solid;\n",
       "  color: var(--sklearn-color-fitted-level-1);\n",
       "}\n",
       "\n",
       "/* On hover */\n",
       "#sk-container-id-1 a.estimator_doc_link:hover {\n",
       "  /* unfitted */\n",
       "  background-color: var(--sklearn-color-unfitted-level-3);\n",
       "  color: var(--sklearn-color-background);\n",
       "  text-decoration: none;\n",
       "}\n",
       "\n",
       "#sk-container-id-1 a.estimator_doc_link.fitted:hover {\n",
       "  /* fitted */\n",
       "  background-color: var(--sklearn-color-fitted-level-3);\n",
       "}\n",
       "</style><div id=\"sk-container-id-1\" class=\"sk-top-container\"><div class=\"sk-text-repr-fallback\"><pre>RandomForestClassifier()</pre><b>In a Jupyter environment, please rerun this cell to show the HTML representation or trust the notebook. <br />On GitHub, the HTML representation is unable to render, please try loading this page with nbviewer.org.</b></div><div class=\"sk-container\" hidden><div class=\"sk-item\"><div class=\"sk-estimator fitted sk-toggleable\"><input class=\"sk-toggleable__control sk-hidden--visually\" id=\"sk-estimator-id-1\" type=\"checkbox\" checked><label for=\"sk-estimator-id-1\" class=\"sk-toggleable__label fitted sk-toggleable__label-arrow\"><div><div>RandomForestClassifier</div></div><div><a class=\"sk-estimator-doc-link fitted\" rel=\"noreferrer\" target=\"_blank\" href=\"https://scikit-learn.org/1.6/modules/generated/sklearn.ensemble.RandomForestClassifier.html\">?<span>Documentation for RandomForestClassifier</span></a><span class=\"sk-estimator-doc-link fitted\">i<span>Fitted</span></span></div></label><div class=\"sk-toggleable__content fitted\"><pre>RandomForestClassifier()</pre></div> </div></div></div></div>"
      ],
      "text/plain": [
       "RandomForestClassifier()"
      ]
     },
     "execution_count": 21,
     "metadata": {},
     "output_type": "execute_result"
    }
   ],
   "source": [
    "model.fit(X_train_scaled,y_train)"
   ]
  },
  {
   "cell_type": "code",
   "execution_count": 22,
   "id": "9e1b926a-a24d-4800-8903-2e9847de171e",
   "metadata": {},
   "outputs": [
    {
     "data": {
      "text/plain": [
       "array([0, 1])"
      ]
     },
     "execution_count": 22,
     "metadata": {},
     "output_type": "execute_result"
    }
   ],
   "source": [
    "model.classes_"
   ]
  },
  {
   "cell_type": "code",
   "execution_count": 23,
   "id": "8e860a50-85f7-4aea-a9c1-b5232f445ccc",
   "metadata": {},
   "outputs": [],
   "source": [
    "y_pred = model.predict(X_test_scaled)"
   ]
  },
  {
   "cell_type": "code",
   "execution_count": 24,
   "id": "d5f26376-ed8a-485b-9092-a11d12ce201d",
   "metadata": {},
   "outputs": [
    {
     "data": {
      "text/plain": [
       "array([1, 1, 0, ..., 1, 1, 1], shape=(164804,))"
      ]
     },
     "execution_count": 24,
     "metadata": {},
     "output_type": "execute_result"
    }
   ],
   "source": [
    "y_pred"
   ]
  },
  {
   "cell_type": "code",
   "execution_count": 25,
   "id": "ac33fb16-0bcd-42bb-8382-7d73f7c084a6",
   "metadata": {},
   "outputs": [],
   "source": [
    "# calculate the score and confusion metrix\n",
    "from sklearn.metrics import classification_report,confusion_matrix,accuracy_score,roc_auc_score"
   ]
  },
  {
   "cell_type": "code",
   "execution_count": 27,
   "id": "6445d867-5f62-40ab-90c1-d1ffe26b20c1",
   "metadata": {},
   "outputs": [],
   "source": [
    "score = accuracy_score(y_test,y_pred)\n",
    "report = classification_report(y_test,y_pred)\n",
    "matrix = confusion_matrix(y_test,y_pred)\n",
    "roc_score = roc_auc_score(y_test,y_pred)\n",
    "\n"
   ]
  },
  {
   "cell_type": "code",
   "execution_count": 28,
   "id": "410ee86d-bba2-4a4f-9c7e-ecac7b037f48",
   "metadata": {},
   "outputs": [
    {
     "name": "stdout",
     "output_type": "stream",
     "text": [
      "accuracy_score:0.8686075580689789\n",
      "Classification_report:\n",
      "               precision    recall  f1-score   support\n",
      "\n",
      "           0       0.83      0.67      0.74     46750\n",
      "           1       0.88      0.95      0.91    118054\n",
      "\n",
      "    accuracy                           0.87    164804\n",
      "   macro avg       0.86      0.81      0.83    164804\n",
      "weighted avg       0.87      0.87      0.86    164804\n",
      "\n",
      "confusion_matrix:\n",
      " [[ 31297  15453]\n",
      " [  6201 111853]]\n",
      "roc_auc_score:<function roc_auc_score at 0x000001BB9C313E20>\n"
     ]
    }
   ],
   "source": [
    "print(f'accuracy_score:{score}')\n",
    "print('Classification_report:\\n {}'.format(report))\n",
    "print(f'confusion_matrix:\\n {matrix}')\n",
    "print(f'roc_auc_score:{roc_auc_score}')"
   ]
  },
  {
   "cell_type": "code",
   "execution_count": 29,
   "id": "aaa4c93b-5611-47ad-ab5b-44a2a2984a9b",
   "metadata": {},
   "outputs": [
    {
     "data": {
      "text/plain": [
       "Label\n",
       "1    118054\n",
       "0     46750\n",
       "Name: count, dtype: int64"
      ]
     },
     "execution_count": 29,
     "metadata": {},
     "output_type": "execute_result"
    }
   ],
   "source": [
    "# 0-->bed 1-->good\n",
    "y_test.value_counts()"
   ]
  },
  {
   "cell_type": "code",
   "execution_count": 30,
   "id": "1d782b79-7822-4102-ba13-2a8ac64c6cc6",
   "metadata": {},
   "outputs": [],
   "source": [
    "# save model\n",
    "import pickle"
   ]
  },
  {
   "cell_type": "code",
   "execution_count": 31,
   "id": "75ab2b3b-fe9c-42be-a78e-9061cba30290",
   "metadata": {},
   "outputs": [],
   "source": [
    "with open('../Random_forest_model.pkl','wb') as file:\n",
    "    pickle.dump(model,file)"
   ]
  },
  {
   "cell_type": "code",
   "execution_count": 32,
   "id": "0391a9d7-b032-4248-a153-ce0d7e1aab76",
   "metadata": {},
   "outputs": [],
   "source": [
    "# save standerad scaler\n",
    "with open('../scaler.pkl','wb') as file:\n",
    "    pickle.dump(scaler,file)"
   ]
  },
  {
   "cell_type": "markdown",
   "id": "12275a3e-a31f-4f85-b31d-3ba7543e00ac",
   "metadata": {},
   "source": [
    "# make prediction"
   ]
  },
  {
   "cell_type": "code",
   "execution_count": 1,
   "id": "dcfd3c1c-1bd5-427b-a33a-1eabec227b31",
   "metadata": {},
   "outputs": [],
   "source": [
    "import string\n",
    "symbol = string.punctuation\n",
    "unique_symbol = '!\"#$%&\\'()*+,:;<=>?@[\\\\]^_`{|}~'\n",
    "def String_analysis(url):\n",
    "    return {\n",
    "        \n",
    "        'Total-character':len(url),\n",
    "        'Uppercase_letter':sum(1 for char in url if char.isupper()),\n",
    "        'Lowercase_letter':sum(1 for char in url if char.islower()),\n",
    "        'Total_numbers':sum(1 for char in url if char.isdigit()),\n",
    "        'Total_symbol':sum(1 for char in url if char in symbol),\n",
    "        'Total_slesh':sum(1 for char in url if char == '/'),\n",
    "        'Total_dots':sum(1 for char in url if char == '.'),\n",
    "        'Total_desh':sum(1 for char in url if char == '-'),\n",
    "        \n",
    "    }"
   ]
  },
  {
   "cell_type": "code",
   "execution_count": 20,
   "id": "dd97e55a-2a06-4432-8e85-213fb7435d28",
   "metadata": {},
   "outputs": [],
   "source": [
    "url = \"https://www.youtube.com/watch?v=qd0LWPe0oCU\"\n",
    "\n",
    "url_dict = String_analysis(url)"
   ]
  },
  {
   "cell_type": "code",
   "execution_count": 21,
   "id": "3b3baf6a-0598-45dc-b36c-69f8030ff3d2",
   "metadata": {},
   "outputs": [
    {
     "data": {
      "text/plain": [
       "{'Total-character': 43,\n",
       " 'Uppercase_letter': 5,\n",
       " 'Lowercase_letter': 28,\n",
       " 'Total_numbers': 2,\n",
       " 'Total_symbol': 8,\n",
       " 'Total_slesh': 3,\n",
       " 'Total_dots': 2,\n",
       " 'Total_desh': 0}"
      ]
     },
     "execution_count": 21,
     "metadata": {},
     "output_type": "execute_result"
    }
   ],
   "source": [
    "url_dict"
   ]
  },
  {
   "cell_type": "code",
   "execution_count": 22,
   "id": "9890d478-0f41-4e32-a859-74bfb59ce33f",
   "metadata": {
    "scrolled": true
   },
   "outputs": [
    {
     "data": {
      "text/html": [
       "<div>\n",
       "<style scoped>\n",
       "    .dataframe tbody tr th:only-of-type {\n",
       "        vertical-align: middle;\n",
       "    }\n",
       "\n",
       "    .dataframe tbody tr th {\n",
       "        vertical-align: top;\n",
       "    }\n",
       "\n",
       "    .dataframe thead th {\n",
       "        text-align: right;\n",
       "    }\n",
       "</style>\n",
       "<table border=\"1\" class=\"dataframe\">\n",
       "  <thead>\n",
       "    <tr style=\"text-align: right;\">\n",
       "      <th></th>\n",
       "      <th>Total-character</th>\n",
       "      <th>Uppercase_letter</th>\n",
       "      <th>Lowercase_letter</th>\n",
       "      <th>Total_numbers</th>\n",
       "      <th>Total_symbol</th>\n",
       "      <th>Total_slesh</th>\n",
       "      <th>Total_dots</th>\n",
       "      <th>Total_desh</th>\n",
       "    </tr>\n",
       "  </thead>\n",
       "  <tbody>\n",
       "    <tr>\n",
       "      <th>0</th>\n",
       "      <td>43</td>\n",
       "      <td>5</td>\n",
       "      <td>28</td>\n",
       "      <td>2</td>\n",
       "      <td>8</td>\n",
       "      <td>3</td>\n",
       "      <td>2</td>\n",
       "      <td>0</td>\n",
       "    </tr>\n",
       "  </tbody>\n",
       "</table>\n",
       "</div>"
      ],
      "text/plain": [
       "   Total-character  Uppercase_letter  Lowercase_letter  Total_numbers  \\\n",
       "0               43                 5                28              2   \n",
       "\n",
       "   Total_symbol  Total_slesh  Total_dots  Total_desh  \n",
       "0             8            3           2           0  "
      ]
     },
     "execution_count": 22,
     "metadata": {},
     "output_type": "execute_result"
    }
   ],
   "source": [
    "# convert into datafream\n",
    "url_datafream = pd.DataFrame(url_dict,index=[0])\n",
    "url_datafream.head()"
   ]
  },
  {
   "cell_type": "code",
   "execution_count": 23,
   "id": "a32a01e5-94df-4864-8a2a-b4baa2439a84",
   "metadata": {},
   "outputs": [],
   "source": [
    "# load model\n",
    "import pickle\n",
    "\n",
    "with open('../Random_forest_model.pkl','rb') as file:\n",
    "    model = pickle.load(file)\n",
    "with open('../scaler.pkl','rb') as file:\n",
    "    scaler = pickle.load(file)"
   ]
  },
  {
   "cell_type": "code",
   "execution_count": 24,
   "id": "6a3e53d9-b69e-4330-b6f4-dd497825ca36",
   "metadata": {},
   "outputs": [
    {
     "data": {
      "text/plain": [
       "array([[-0.17451336,  0.26331921, -0.35504365, -0.23990508,  0.18380142,\n",
       "         0.34520664, -0.04057017, -0.46415897]])"
      ]
     },
     "execution_count": 24,
     "metadata": {},
     "output_type": "execute_result"
    }
   ],
   "source": [
    "# scal the value\n",
    "url_scaled = scaler.transform(url_datafream)\n",
    "url_scaled"
   ]
  },
  {
   "cell_type": "code",
   "execution_count": 25,
   "id": "9bac252c-2b2d-4eb7-87eb-731a73eff88a",
   "metadata": {},
   "outputs": [
    {
     "name": "stdout",
     "output_type": "stream",
     "text": [
      "[1]\n"
     ]
    }
   ],
   "source": [
    "prediction = model.predict(url_scaled)\n",
    "print(prediction)"
   ]
  },
  {
   "cell_type": "code",
   "execution_count": 26,
   "id": "da7d7f2d-b83e-4cd8-b7ef-1f5bdf2e3f5e",
   "metadata": {},
   "outputs": [
    {
     "name": "stdout",
     "output_type": "stream",
     "text": [
      "1\n"
     ]
    }
   ],
   "source": [
    "print(prediction[0])"
   ]
  },
  {
   "cell_type": "code",
   "execution_count": 27,
   "id": "0da99850-0951-4de5-a152-cf1b828bd05f",
   "metadata": {},
   "outputs": [
    {
     "name": "stdout",
     "output_type": "stream",
     "text": [
      "URL : https://www.youtube.com/watch?v=qd0LWPe0oCU is safe\n"
     ]
    }
   ],
   "source": [
    "if prediction[0] == 0:\n",
    "    print(f'URL : {url} is Bed')\n",
    "else:\n",
    "    print(f'URL : {url} is safe')"
   ]
  },
  {
   "cell_type": "code",
   "execution_count": null,
   "id": "aa0674c8-13b3-4a73-a091-9bda6c6b6062",
   "metadata": {},
   "outputs": [],
   "source": []
  },
  {
   "cell_type": "code",
   "execution_count": null,
   "id": "63926477-8d4d-48fa-a4c3-993141a66da2",
   "metadata": {},
   "outputs": [],
   "source": []
  }
 ],
 "metadata": {
  "kernelspec": {
   "display_name": "<Phishing-attack>",
   "language": "python",
   "name": "venv"
  },
  "language_info": {
   "codemirror_mode": {
    "name": "ipython",
    "version": 3
   },
   "file_extension": ".py",
   "mimetype": "text/x-python",
   "name": "python",
   "nbconvert_exporter": "python",
   "pygments_lexer": "ipython3",
   "version": "3.12.0"
  }
 },
 "nbformat": 4,
 "nbformat_minor": 5
}
